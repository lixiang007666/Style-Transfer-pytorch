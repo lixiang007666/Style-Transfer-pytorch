{
  "nbformat": 4,
  "nbformat_minor": 0,
  "metadata": {
    "colab": {
      "name": "style-pytorch.ipynb",
      "provenance": [],
      "collapsed_sections": []
    },
    "kernelspec": {
      "name": "python3",
      "display_name": "Python 3"
    },
    "language_info": {
      "name": "python"
    },
    "accelerator": "GPU"
  },
  "cells": [
    {
      "cell_type": "code",
      "metadata": {
        "colab": {
          "base_uri": "https://localhost:8080/"
        },
        "id": "hGtMCe46W_fw",
        "outputId": "beaeeca9-3943-4188-9863-91a74ee33147"
      },
      "source": [
        "from google.colab import drive\n",
        "drive.mount('/content/drive')"
      ],
      "execution_count": 1,
      "outputs": [
        {
          "output_type": "stream",
          "text": [
            "Mounted at /content/drive\n"
          ],
          "name": "stdout"
        }
      ]
    },
    {
      "cell_type": "code",
      "metadata": {
        "colab": {
          "base_uri": "https://localhost:8080/"
        },
        "id": "ZRbchBazX9yw",
        "outputId": "deefdb8a-c18e-4de6-eb45-5a9b96ee5539"
      },
      "source": [
        "import os\n",
        "os.chdir(\"/content/drive/My Drive\")\n",
        "!ls"
      ],
      "execution_count": 2,
      "outputs": [
        {
          "output_type": "stream",
          "text": [
            "'Colab Notebooks'\t  Optic-Disc-Unet\t    style-pytorch.ipynb\n",
            " Mask-Wearing-Detection   Optic-Disc-Unet-master    yolo_opencv.ipynb\n",
            " optic_disc_copy.ipynb\t  pytorch_test.ipynb\t    yolov3_with_opencv\n",
            " optic_disc.ipynb\t  PyTorch_Tutorial-master\n"
          ],
          "name": "stdout"
        }
      ]
    },
    {
      "cell_type": "code",
      "metadata": {
        "colab": {
          "base_uri": "https://localhost:8080/"
        },
        "id": "uX7d9HKIYANw",
        "outputId": "13ace3c4-6372-4eef-ee56-b2ef1be19a2e"
      },
      "source": [
        "!git clone https://github.com/steednan/Style-Transfer.git"
      ],
      "execution_count": 3,
      "outputs": [
        {
          "output_type": "stream",
          "text": [
            "Cloning into 'Style-Transfer'...\n",
            "remote: Enumerating objects: 26, done.\u001b[K\n",
            "remote: Counting objects: 100% (26/26), done.\u001b[K\n",
            "remote: Compressing objects: 100% (19/19), done.\u001b[K\n",
            "remote: Total 26 (delta 6), reused 26 (delta 6), pack-reused 0\u001b[K\n",
            "Unpacking objects: 100% (26/26), done.\n"
          ],
          "name": "stdout"
        }
      ]
    },
    {
      "cell_type": "code",
      "metadata": {
        "colab": {
          "base_uri": "https://localhost:8080/"
        },
        "id": "FAW0490jYHax",
        "outputId": "bff03ad2-fcef-483a-d694-681d2e03d26c"
      },
      "source": [
        "os.chdir(\"/content/drive/My Drive/Style-Transfer\")\n",
        "!ls"
      ],
      "execution_count": 4,
      "outputs": [
        {
          "output_type": "stream",
          "text": [
            "Image  __init__.py  Model  README.md  train.py\n"
          ],
          "name": "stdout"
        }
      ]
    },
    {
      "cell_type": "code",
      "metadata": {
        "colab": {
          "base_uri": "https://localhost:8080/"
        },
        "id": "t7JqhEhvYPI1",
        "outputId": "be0e807c-d4fb-4d95-b56e-2444094a4fc0"
      },
      "source": [
        "!python3 train.py"
      ],
      "execution_count": 7,
      "outputs": [
        {
          "output_type": "stream",
          "text": [
            "/usr/local/lib/python3.7/dist-packages/torch/nn/functional.py:718: UserWarning: Named tensors and all their associated APIs are an experimental feature and subject to change. Please do not use them for anything important until they are released as stable. (Triggered internally at  /pytorch/c10/core/TensorImpl.h:1156.)\n",
            "  return torch.max_pool2d(input, kernel_size, stride, padding, dilation, ceil_mode)\n",
            "epoch  10, content loss 25.22, style loss 3014.07, TV loss 1.16, 0.01 sec\n",
            "epoch  20, content loss 29.34, style loss 740.11, TV loss 1.31, 0.00 sec\n",
            "epoch  30, content loss 30.87, style loss 383.17, TV loss 1.36, 0.00 sec\n",
            "epoch  40, content loss 31.51, style loss 250.63, TV loss 1.40, 0.01 sec\n",
            "epoch  50, content loss 31.39, style loss 190.49, TV loss 1.45, 0.01 sec\n",
            "epoch  60, content loss 30.82, style loss 152.23, TV loss 1.46, 0.01 sec\n",
            "epoch  70, content loss 29.83, style loss 124.40, TV loss 1.49, 0.01 sec\n",
            "epoch  80, content loss 29.00, style loss 108.24, TV loss 1.50, 0.01 sec\n",
            "epoch  90, content loss 28.27, style loss 92.64, TV loss 1.52, 0.01 sec\n",
            "epoch 100, content loss 27.65, style loss 82.47, TV loss 1.53, 0.00 sec\n",
            "epoch 110, content loss 27.15, style loss 73.10, TV loss 1.54, 0.01 sec\n",
            "epoch 120, content loss 26.44, style loss 65.02, TV loss 1.56, 0.01 sec\n",
            "epoch 130, content loss 25.90, style loss 58.60, TV loss 1.57, 0.01 sec\n",
            "epoch 140, content loss 25.44, style loss 53.61, TV loss 1.58, 0.01 sec\n",
            "epoch 150, content loss 24.98, style loss 49.11, TV loss 1.59, 0.00 sec\n",
            "epoch 160, content loss 24.60, style loss 45.28, TV loss 1.60, 0.01 sec\n",
            "epoch 170, content loss 24.11, style loss 42.02, TV loss 1.61, 0.01 sec\n",
            "epoch 180, content loss 23.78, style loss 39.58, TV loss 1.61, 0.01 sec\n",
            "epoch 190, content loss 23.41, style loss 37.26, TV loss 1.62, 0.01 sec\n",
            "epoch 200, content loss 23.05, style loss 35.32, TV loss 1.62, 0.00 sec\n",
            "epoch 210, content loss 22.81, style loss 33.80, TV loss 1.62, 0.00 sec\n",
            "epoch 220, content loss 22.49, style loss 32.43, TV loss 1.62, 0.00 sec\n",
            "epoch 230, content loss 22.19, style loss 31.25, TV loss 1.62, 0.01 sec\n",
            "epoch 240, content loss 21.94, style loss 29.98, TV loss 1.62, 0.00 sec\n",
            "epoch 250, content loss 21.65, style loss 28.75, TV loss 1.62, 0.00 sec\n",
            "epoch 260, content loss 21.44, style loss 27.63, TV loss 1.62, 0.01 sec\n",
            "epoch 270, content loss 21.19, style loss 26.77, TV loss 1.62, 0.01 sec\n",
            "epoch 280, content loss 20.97, style loss 25.81, TV loss 1.62, 0.01 sec\n",
            "epoch 290, content loss 20.81, style loss 24.97, TV loss 1.62, 0.01 sec\n",
            "epoch 300, content loss 20.57, style loss 24.25, TV loss 1.62, 0.01 sec\n"
          ],
          "name": "stdout"
        }
      ]
    }
  ]
}